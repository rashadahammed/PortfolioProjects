{
 "cells": [
  {
   "cell_type": "code",
   "execution_count": 2,
   "id": "ca9d2f71",
   "metadata": {},
   "outputs": [],
   "source": [
    "import os, shutil"
   ]
  },
  {
   "cell_type": "code",
   "execution_count": 15,
   "id": "dc15a4b1",
   "metadata": {},
   "outputs": [],
   "source": [
    "path =r\"C:/Users/rasha/OneDrive/Desktop/Achievemnt/\""
   ]
  },
  {
   "cell_type": "code",
   "execution_count": 16,
   "id": "bb775ce4",
   "metadata": {},
   "outputs": [],
   "source": [
    "file_name=os.listdir(path)"
   ]
  },
  {
   "cell_type": "code",
   "execution_count": 17,
   "id": "94629f66",
   "metadata": {},
   "outputs": [
    {
     "data": {
      "text/plain": [
       "['agnitio_graphicdesign.pdf',\n",
       " 'alphasys_internship.pdf',\n",
       " 'alphasys_quiz.jpg',\n",
       " 'alphasys_robotics.jpg',\n",
       " 'AP.pdf',\n",
       " 'certificate_bootcamp.png',\n",
       " 'Courserahtml.pdf',\n",
       " 'CourseraPython.pdf',\n",
       " 'frizbee.pdf',\n",
       " 'IBM BD0101EN Certificate _ Cognitive Class.pdf',\n",
       " 'IBM DS0105EN Certificate _ Cognitive Class.pdf',\n",
       " 'SUB_CORD_AGNITIO.pdf',\n",
       " 'WhatsApp Image 2023-05-02 at 13.15.35.jpg',\n",
       " 'WhatsApp Image 2023-07-19 at 17.26.44.jpg']"
      ]
     },
     "execution_count": 17,
     "metadata": {},
     "output_type": "execute_result"
    }
   ],
   "source": [
    "os.listdir(path)"
   ]
  },
  {
   "cell_type": "code",
   "execution_count": 18,
   "id": "a3cec3fe",
   "metadata": {},
   "outputs": [
    {
     "name": "stdout",
     "output_type": "stream",
     "text": [
      "C:/Users/rasha/OneDrive/Desktop/Achievemnt/pdf file\n",
      "C:/Users/rasha/OneDrive/Desktop/Achievemnt/jpg file\n",
      "C:/Users/rasha/OneDrive/Desktop/Achievemnt/png file\n"
     ]
    }
   ],
   "source": [
    "folder_name= ['pdf file','jpg file','png file']\n",
    "\n",
    "for loop in range (0,3):\n",
    "    if not os.path.exists(path+folder_name[loop]):\n",
    "        print(path+folder_name[loop])\n",
    "        os.makedirs(path+folder_name[loop])"
   ]
  },
  {
   "cell_type": "code",
   "execution_count": 19,
   "id": "5adb4931",
   "metadata": {},
   "outputs": [],
   "source": [
    "for file in file_name:\n",
    "    if \".pdf\" in file and not os.path.exists(path +\"pdf file/\" +file):\n",
    "        shutil.move(path +  file,path + \"pdf file/\" +file)\n",
    "    elif \".jpg\" in file and not os.path.exists(path +\"jpg file/\" +file):\n",
    "        shutil.move(path+file,path+\"jpg file/\"+file)\n",
    "    elif \".png\" in file and not os.path.exists(path +\"png file/\" +file):\n",
    "        shutil.move(path+file,path+\"png file/\"+file)    \n",
    "    else:\n",
    "        print('it is not moved')"
   ]
  },
  {
   "cell_type": "code",
   "execution_count": null,
   "id": "e9b296a9",
   "metadata": {},
   "outputs": [],
   "source": []
  }
 ],
 "metadata": {
  "kernelspec": {
   "display_name": "Python 3 (ipykernel)",
   "language": "python",
   "name": "python3"
  },
  "language_info": {
   "codemirror_mode": {
    "name": "ipython",
    "version": 3
   },
   "file_extension": ".py",
   "mimetype": "text/x-python",
   "name": "python",
   "nbconvert_exporter": "python",
   "pygments_lexer": "ipython3",
   "version": "3.11.4"
  }
 },
 "nbformat": 4,
 "nbformat_minor": 5
}
